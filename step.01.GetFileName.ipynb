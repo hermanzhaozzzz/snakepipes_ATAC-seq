{
 "cells": [
  {
   "cell_type": "markdown",
   "metadata": {
    "tags": []
   },
   "source": [
    "# ATAC-seq standard protocol"
   ]
  },
  {
   "cell_type": "code",
   "execution_count": 2,
   "metadata": {
    "execution": {
     "iopub.execute_input": "2023-08-29T07:25:38.724003Z",
     "iopub.status.busy": "2023-08-29T07:25:38.723032Z",
     "iopub.status.idle": "2023-08-29T07:25:38.732770Z",
     "shell.execute_reply": "2023-08-29T07:25:38.731206Z",
     "shell.execute_reply.started": "2023-08-29T07:25:38.723884Z"
    }
   },
   "outputs": [],
   "source": [
    "# !pip install bioat -U"
   ]
  },
  {
   "cell_type": "code",
   "execution_count": 1,
   "metadata": {
    "execution": {
     "iopub.execute_input": "2023-08-29T07:10:59.581906Z",
     "iopub.status.busy": "2023-08-29T07:10:59.581476Z",
     "iopub.status.idle": "2023-08-29T07:10:59.600478Z",
     "shell.execute_reply": "2023-08-29T07:10:59.598855Z",
     "shell.execute_reply.started": "2023-08-29T07:10:59.581874Z"
    },
    "tags": []
   },
   "outputs": [],
   "source": [
    "import glob\n",
    "import json\n",
    "from bioat\n",
    "from pprint import pprint"
   ]
  },
  {
   "cell_type": "markdown",
   "metadata": {},
   "source": [
    "## 参数设置"
   ]
  },
  {
   "cell_type": "code",
   "execution_count": 2,
   "metadata": {
    "execution": {
     "iopub.execute_input": "2023-08-29T07:10:59.601967Z",
     "iopub.status.busy": "2023-08-29T07:10:59.601749Z",
     "iopub.status.idle": "2023-08-29T07:10:59.606291Z",
     "shell.execute_reply": "2023-08-29T07:10:59.604846Z",
     "shell.execute_reply.started": "2023-08-29T07:10:59.601944Z"
    },
    "tags": []
   },
   "outputs": [],
   "source": [
    "thread = 20"
   ]
  },
  {
   "cell_type": "markdown",
   "metadata": {},
   "source": [
    "## 生成samples.json"
   ]
  },
  {
   "cell_type": "code",
   "execution_count": 3,
   "metadata": {
    "execution": {
     "iopub.execute_input": "2023-08-29T07:10:59.607609Z",
     "iopub.status.busy": "2023-08-29T07:10:59.607432Z",
     "iopub.status.idle": "2023-08-29T07:10:59.614418Z",
     "shell.execute_reply": "2023-08-29T07:10:59.613502Z",
     "shell.execute_reply.started": "2023-08-29T07:10:59.607590Z"
    },
    "tags": []
   },
   "outputs": [],
   "source": [
    "ls = glob.glob(\"../fastq/*.fastq.gz\")\n",
    "ls.sort()\n",
    "assert ls != []  # 需要非空\n",
    "ls_se = [i for i in ls if i.endswith(\"SE.fastq.gz\")]\n",
    "ls_pe = [i for i in ls if i.endswith(\"R1.fastq.gz\")]"
   ]
  },
  {
   "cell_type": "code",
   "execution_count": 4,
   "metadata": {
    "execution": {
     "iopub.execute_input": "2023-08-29T07:10:59.616822Z",
     "iopub.status.busy": "2023-08-29T07:10:59.616659Z",
     "iopub.status.idle": "2023-08-29T07:10:59.621363Z",
     "shell.execute_reply": "2023-08-29T07:10:59.620213Z",
     "shell.execute_reply.started": "2023-08-29T07:10:59.616807Z"
    },
    "tags": []
   },
   "outputs": [],
   "source": [
    "if ls_se:\n",
    "    ls_sample = [i.split(\"/\")[-1].split(\"_SE.fastq\")[0] for i in ls_se]\n",
    "    end_type = \"SE\"\n",
    "\n",
    "if ls_pe:\n",
    "    ls_sample = [i.split(\"/\")[-1].split(\"_R1.fastq\")[0] for i in ls_pe]\n",
    "    end_type = \"PE\""
   ]
  },
  {
   "cell_type": "code",
   "execution_count": 5,
   "metadata": {
    "execution": {
     "iopub.execute_input": "2023-08-29T07:10:59.622739Z",
     "iopub.status.busy": "2023-08-29T07:10:59.622583Z",
     "iopub.status.idle": "2023-08-29T07:10:59.625937Z",
     "shell.execute_reply": "2023-08-29T07:10:59.625120Z",
     "shell.execute_reply.started": "2023-08-29T07:10:59.622725Z"
    },
    "tags": []
   },
   "outputs": [],
   "source": [
    "# Adapters\n",
    "# Check from MultiQC results\n",
    "\n",
    "\n",
    "# Nextera Transposase Adapters\n",
    "# The transposase adapters are used for Nextera tagmentation.\n",
    "# Read 1\n",
    "# 5′ TCGTCGGCAGCGTCAGATGTGTATAAGAGACAG\n",
    "# Read 2\n",
    "# 5′ GTCTCGTGGGCTCGGAGATGTGTATAAGAGACAG\n",
    "R1_AD = 'TCGTCGGCAGCGTCAGATGTGTATAAGAGACAG'\n",
    "R2_AD = 'GTCTCGTGGGCTCGGAGATGTGTATAAGAGACAG'"
   ]
  },
  {
   "cell_type": "code",
   "execution_count": 6,
   "metadata": {
    "execution": {
     "iopub.execute_input": "2023-08-29T07:10:59.626624Z",
     "iopub.status.busy": "2023-08-29T07:10:59.626479Z",
     "iopub.status.idle": "2023-08-29T07:10:59.629582Z",
     "shell.execute_reply": "2023-08-29T07:10:59.629172Z",
     "shell.execute_reply.started": "2023-08-29T07:10:59.626606Z"
    },
    "tags": []
   },
   "outputs": [],
   "source": [
    "MACS2_GSIZE = 'hs'\n",
    "\n",
    "# Effective genome size. It can be 1.0e+9 or 1000000000, or shortcuts:'hs' for human (2.7e9),\n",
    "# 'mm' for mouse (1.87e9), 'ce' for C. elegans (9e7) and 'dm' for fruitfly (1.2e8), Default:hs"
   ]
  },
  {
   "cell_type": "code",
   "execution_count": 7,
   "metadata": {
    "execution": {
     "iopub.execute_input": "2023-08-29T07:10:59.630147Z",
     "iopub.status.busy": "2023-08-29T07:10:59.630043Z",
     "iopub.status.idle": "2023-08-29T07:10:59.633911Z",
     "shell.execute_reply": "2023-08-29T07:10:59.633595Z",
     "shell.execute_reply.started": "2023-08-29T07:10:59.630136Z"
    },
    "tags": []
   },
   "outputs": [
    {
     "name": "stdout",
     "output_type": "stream",
     "text": [
      "{'bowtie2_index_chrM': '/home/zhaohuanan/1.database/db_genomes/genome_fa/genome_ucsc_hg38/chrM.fa.bowtie2_index',\n",
      " 'bowtie2_index_genome': '/home/zhaohuanan/1.database/db_genomes/genome_fa/genome_ucsc_hg38/genome_ucsc_hg38.fa.bowtie2_index',\n",
      " 'bowtie2_index_plasmid': '../ref/plasmid.fa.bowtie2_index',\n",
      " 'genome': '/home/zhaohuanan/1.database/db_genomes/genome_fa/genome_ucsc_hg38/genome_ucsc_hg38.fa',\n",
      " 'macs2_gsize': 'hs',\n",
      " 'r1_ad': 'TCGTCGGCAGCGTCAGATGTGTATAAGAGACAG',\n",
      " 'r2_ad': 'GTCTCGTGGGCTCGGAGATGTGTATAAGAGACAG',\n",
      " 'samples': ['ATACSeq_GFP-NLS_REP-1',\n",
      "             'ATACSeq_GFP_REP-1',\n",
      "             'ATACSeq_ND6-DddAwt_REP-1',\n",
      "             'ATACSeq_ND6-DddAwt_REP-2',\n",
      "             'ATACSeq_SIRT6-DddA11_REP-1',\n",
      "             'ATACSeq_SIRT6-DddA11_REP-2',\n",
      "             'test'],\n",
      " 'seq_mode': 'PE',\n",
      " 'thread': 20}\n"
     ]
    }
   ],
   "source": [
    "dt = {\n",
    "    \"seq_mode\": end_type, \n",
    "    \"samples\": ls_sample, \n",
    "    \"thread\": thread,\n",
    "    \"r1_ad\": R1_AD,\n",
    "    \"r2_ad\": R2_AD,\n",
    "    \"genome\": \"/home/zhaohuanan/1.database/db_genomes/genome_fa/genome_ucsc_hg38/genome_ucsc_hg38.fa\",\n",
    "    \"bowtie2_index_genome\": \"/home/zhaohuanan/1.database/db_genomes/genome_fa/genome_ucsc_hg38/genome_ucsc_hg38.fa.bowtie2_index\",\n",
    "    \"bowtie2_index_chrM\": \"/home/zhaohuanan/1.database/db_genomes/genome_fa/genome_ucsc_hg38/chrM.fa.bowtie2_index\",\n",
    "    \"bowtie2_index_plasmid\": \"../ref/plasmid.fa.bowtie2_index\",\n",
    "    \"macs2_gsize\": MACS2_GSIZE\n",
    "}\n",
    "pprint(dt)"
   ]
  },
  {
   "cell_type": "code",
   "execution_count": 8,
   "metadata": {
    "execution": {
     "iopub.execute_input": "2023-08-29T07:10:59.634764Z",
     "iopub.status.busy": "2023-08-29T07:10:59.634655Z",
     "iopub.status.idle": "2023-08-29T07:10:59.638144Z",
     "shell.execute_reply": "2023-08-29T07:10:59.637847Z",
     "shell.execute_reply.started": "2023-08-29T07:10:59.634753Z"
    },
    "tags": []
   },
   "outputs": [],
   "source": [
    "with open(\"./samples.json\", \"wt\") as f:\n",
    "    f.write(json.dumps(dt))"
   ]
  },
  {
   "cell_type": "code",
   "execution_count": null,
   "metadata": {},
   "outputs": [],
   "source": []
  }
 ],
 "metadata": {
  "kernelspec": {
   "display_name": "snakepipes_ATAC-seq",
   "language": "python",
   "name": "snakepipes_atac-seq"
  },
  "language_info": {
   "codemirror_mode": {
    "name": "ipython",
    "version": 3
   },
   "file_extension": ".py",
   "mimetype": "text/x-python",
   "name": "python",
   "nbconvert_exporter": "python",
   "pygments_lexer": "ipython3",
   "version": "3.10.12"
  }
 },
 "nbformat": 4,
 "nbformat_minor": 4
}
