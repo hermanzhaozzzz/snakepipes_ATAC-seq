{
 "cells": [
  {
   "cell_type": "markdown",
   "metadata": {
    "tags": []
   },
   "source": [
    "# ATAC-seq standard protocol"
   ]
  },
  {
   "cell_type": "code",
   "execution_count": 1,
   "metadata": {
    "execution": {
     "iopub.execute_input": "2023-06-09T18:24:01.444012Z",
     "iopub.status.busy": "2023-06-09T18:24:01.443718Z",
     "iopub.status.idle": "2023-06-09T18:24:01.450510Z",
     "shell.execute_reply": "2023-06-09T18:24:01.449909Z",
     "shell.execute_reply.started": "2023-06-09T18:24:01.443988Z"
    },
    "tags": []
   },
   "outputs": [],
   "source": [
    "import glob\n",
    "import json\n",
    "from pprint import pprint"
   ]
  },
  {
   "cell_type": "markdown",
   "metadata": {},
   "source": [
    "## 参数设置"
   ]
  },
  {
   "cell_type": "code",
   "execution_count": 2,
   "metadata": {
    "execution": {
     "iopub.execute_input": "2023-06-09T18:24:02.453683Z",
     "iopub.status.busy": "2023-06-09T18:24:02.453384Z",
     "iopub.status.idle": "2023-06-09T18:24:02.456515Z",
     "shell.execute_reply": "2023-06-09T18:24:02.455915Z",
     "shell.execute_reply.started": "2023-06-09T18:24:02.453661Z"
    },
    "tags": []
   },
   "outputs": [],
   "source": [
    "thread = 20"
   ]
  },
  {
   "cell_type": "markdown",
   "metadata": {},
   "source": [
    "## 生成samples.json"
   ]
  },
  {
   "cell_type": "code",
   "execution_count": 3,
   "metadata": {
    "execution": {
     "iopub.execute_input": "2023-06-09T18:24:03.532914Z",
     "iopub.status.busy": "2023-06-09T18:24:03.532637Z",
     "iopub.status.idle": "2023-06-09T18:24:03.536998Z",
     "shell.execute_reply": "2023-06-09T18:24:03.536391Z",
     "shell.execute_reply.started": "2023-06-09T18:24:03.532892Z"
    },
    "tags": []
   },
   "outputs": [],
   "source": [
    "ls = glob.glob(\"../fastq/*.fastq.gz\")\n",
    "ls.sort()\n",
    "assert ls != []  # 需要非空\n",
    "ls_se = [i for i in ls if i.endswith(\"SE.fastq.gz\")]\n",
    "ls_pe = [i for i in ls if i.endswith(\"R1.fastq.gz\")]"
   ]
  },
  {
   "cell_type": "code",
   "execution_count": 4,
   "metadata": {
    "execution": {
     "iopub.execute_input": "2023-06-09T18:24:04.478751Z",
     "iopub.status.busy": "2023-06-09T18:24:04.478461Z",
     "iopub.status.idle": "2023-06-09T18:24:04.482500Z",
     "shell.execute_reply": "2023-06-09T18:24:04.481909Z",
     "shell.execute_reply.started": "2023-06-09T18:24:04.478729Z"
    },
    "tags": []
   },
   "outputs": [],
   "source": [
    "if ls_se:\n",
    "    ls_sample = [i.split(\"/\")[-1].split(\"_SE.fastq\")[0] for i in ls_se]\n",
    "    end_type = \"SE\"\n",
    "\n",
    "if ls_pe:\n",
    "    ls_sample = [i.split(\"/\")[-1].split(\"_R1.fastq\")[0] for i in ls_pe]\n",
    "    end_type = \"PE\""
   ]
  },
  {
   "cell_type": "code",
   "execution_count": 5,
   "metadata": {
    "execution": {
     "iopub.execute_input": "2023-06-09T18:24:06.679148Z",
     "iopub.status.busy": "2023-06-09T18:24:06.678837Z",
     "iopub.status.idle": "2023-06-09T18:24:06.682294Z",
     "shell.execute_reply": "2023-06-09T18:24:06.681698Z",
     "shell.execute_reply.started": "2023-06-09T18:24:06.679126Z"
    },
    "tags": []
   },
   "outputs": [],
   "source": [
    "# Adapters\n",
    "# Check from MultiQC results\n",
    "\n",
    "\n",
    "# Nextera Transposase Adapters\n",
    "# The transposase adapters are used for Nextera tagmentation.\n",
    "# Read 1\n",
    "# 5′ TCGTCGGCAGCGTCAGATGTGTATAAGAGACAG\n",
    "# Read 2\n",
    "# 5′ GTCTCGTGGGCTCGGAGATGTGTATAAGAGACAG\n",
    "R1_AD = 'TCGTCGGCAGCGTCAGATGTGTATAAGAGACAG'\n",
    "R2_AD = 'GTCTCGTGGGCTCGGAGATGTGTATAAGAGACAG'"
   ]
  },
  {
   "cell_type": "code",
   "execution_count": 6,
   "metadata": {
    "execution": {
     "iopub.execute_input": "2023-06-09T18:24:07.948570Z",
     "iopub.status.busy": "2023-06-09T18:24:07.948286Z",
     "iopub.status.idle": "2023-06-09T18:24:07.951462Z",
     "shell.execute_reply": "2023-06-09T18:24:07.950873Z",
     "shell.execute_reply.started": "2023-06-09T18:24:07.948549Z"
    },
    "tags": []
   },
   "outputs": [],
   "source": [
    "MACS2_GSIZE = 'hs'\n",
    "\n",
    "# Effective genome size. It can be 1.0e+9 or 1000000000, or shortcuts:'hs' for human (2.7e9),\n",
    "# 'mm' for mouse (1.87e9), 'ce' for C. elegans (9e7) and 'dm' for fruitfly (1.2e8), Default:hs"
   ]
  },
  {
   "cell_type": "code",
   "execution_count": 7,
   "metadata": {
    "execution": {
     "iopub.execute_input": "2023-06-09T18:24:41.663405Z",
     "iopub.status.busy": "2023-06-09T18:24:41.663034Z",
     "iopub.status.idle": "2023-06-09T18:24:41.668299Z",
     "shell.execute_reply": "2023-06-09T18:24:41.667682Z",
     "shell.execute_reply.started": "2023-06-09T18:24:41.663382Z"
    },
    "tags": []
   },
   "outputs": [
    {
     "name": "stdout",
     "output_type": "stream",
     "text": [
      "{'bowtie2_index_chrM': '/home/zhaohuanan/1.database/db_genomes/genome_fa/genome_ucsc_hg38/chrM.fa.bowtie2_index',\n",
      " 'bowtie2_index_genome': '/home/zhaohuanan/1.database/db_genomes/genome_fa/genome_ucsc_hg38/genome_ucsc_hg38.fa.bowtie2_index',\n",
      " 'bowtie2_index_plasmid': '../ref/plasmid.fa.bowtie2_index',\n",
      " 'genome': '/home/zhaohuanan/1.database/db_genomes/genome_fa/genome_ucsc_hg38/genome_ucsc_hg38.fa',\n",
      " 'macs2_gsize': 'hs',\n",
      " 'r1_ad': 'TCGTCGGCAGCGTCAGATGTGTATAAGAGACAG',\n",
      " 'r2_ad': 'GTCTCGTGGGCTCGGAGATGTGTATAAGAGACAG',\n",
      " 'samples': ['ATACSeq_GFP-NLS_REP-1',\n",
      "             'ATACSeq_GFP_REP-1',\n",
      "             'ATACSeq_ND6-DddAwt_REP-1',\n",
      "             'ATACSeq_ND6-DddAwt_REP-2',\n",
      "             'ATACSeq_SIRT6-DddA11_REP-1',\n",
      "             'ATACSeq_SIRT6-DddA11_REP-2',\n",
      "             'test'],\n",
      " 'seq_mode': 'PE',\n",
      " 'thread': 20}\n"
     ]
    }
   ],
   "source": [
    "dt = {\n",
    "    \"seq_mode\": end_type, \n",
    "    \"samples\": ls_sample, \n",
    "    \"thread\": thread,\n",
    "    \"r1_ad\": R1_AD,\n",
    "    \"r2_ad\": R2_AD,\n",
    "    \"genome\": \"/home/zhaohuanan/1.database/db_genomes/genome_fa/genome_ucsc_hg38/genome_ucsc_hg38.fa\",\n",
    "    \"bowtie2_index_genome\": \"/home/zhaohuanan/1.database/db_genomes/genome_fa/genome_ucsc_hg38/genome_ucsc_hg38.fa.bowtie2_index\",\n",
    "    \"bowtie2_index_chrM\": \"/home/zhaohuanan/1.database/db_genomes/genome_fa/genome_ucsc_hg38/chrM.fa.bowtie2_index\",\n",
    "    \"bowtie2_index_plasmid\": \"../ref/plasmid.fa.bowtie2_index\",\n",
    "    \"macs2_gsize\": MACS2_GSIZE\n",
    "}\n",
    "pprint(dt)"
   ]
  },
  {
   "cell_type": "code",
   "execution_count": 8,
   "metadata": {
    "execution": {
     "iopub.execute_input": "2023-06-09T18:24:44.157405Z",
     "iopub.status.busy": "2023-06-09T18:24:44.157119Z",
     "iopub.status.idle": "2023-06-09T18:24:44.160677Z",
     "shell.execute_reply": "2023-06-09T18:24:44.160074Z",
     "shell.execute_reply.started": "2023-06-09T18:24:44.157384Z"
    },
    "tags": []
   },
   "outputs": [],
   "source": [
    "with open(\"./samples.json\", \"wt\") as f:\n",
    "    f.write(json.dumps(dt))"
   ]
  },
  {
   "cell_type": "code",
   "execution_count": null,
   "metadata": {},
   "outputs": [],
   "source": []
  }
 ],
 "metadata": {
  "kernelspec": {
   "display_name": "Python 3 (ipykernel)",
   "language": "python",
   "name": "python3"
  },
  "language_info": {
   "codemirror_mode": {
    "name": "ipython",
    "version": 3
   },
   "file_extension": ".py",
   "mimetype": "text/x-python",
   "name": "python",
   "nbconvert_exporter": "python",
   "pygments_lexer": "ipython3",
   "version": "3.10.11"
  }
 },
 "nbformat": 4,
 "nbformat_minor": 4
}
