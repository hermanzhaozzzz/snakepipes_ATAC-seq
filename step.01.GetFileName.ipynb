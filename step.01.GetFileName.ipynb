{
 "cells": [
  {
   "cell_type": "markdown",
   "metadata": {
    "tags": []
   },
   "source": [
    "# ATAC-seq standard protocol"
   ]
  },
  {
   "cell_type": "code",
   "execution_count": 32,
   "metadata": {
    "execution": {
     "iopub.execute_input": "2023-05-06T14:04:30.863201Z",
     "iopub.status.busy": "2023-05-06T14:04:30.862210Z",
     "iopub.status.idle": "2023-05-06T14:04:30.871864Z",
     "shell.execute_reply": "2023-05-06T14:04:30.870319Z",
     "shell.execute_reply.started": "2023-05-06T14:04:30.863124Z"
    },
    "tags": []
   },
   "outputs": [],
   "source": [
    "import glob\n",
    "import json\n",
    "from pprint import pprint"
   ]
  },
  {
   "cell_type": "markdown",
   "metadata": {},
   "source": [
    "## 参数设置"
   ]
  },
  {
   "cell_type": "code",
   "execution_count": 33,
   "metadata": {
    "execution": {
     "iopub.execute_input": "2023-05-06T14:04:31.706985Z",
     "iopub.status.busy": "2023-05-06T14:04:31.705425Z",
     "iopub.status.idle": "2023-05-06T14:04:31.713924Z",
     "shell.execute_reply": "2023-05-06T14:04:31.712107Z",
     "shell.execute_reply.started": "2023-05-06T14:04:31.706919Z"
    },
    "tags": []
   },
   "outputs": [],
   "source": [
    "thread = 20"
   ]
  },
  {
   "cell_type": "markdown",
   "metadata": {},
   "source": [
    "## 生成samples.json"
   ]
  },
  {
   "cell_type": "code",
   "execution_count": 34,
   "metadata": {
    "execution": {
     "iopub.execute_input": "2023-05-06T14:04:33.028561Z",
     "iopub.status.busy": "2023-05-06T14:04:33.027961Z",
     "iopub.status.idle": "2023-05-06T14:04:33.039163Z",
     "shell.execute_reply": "2023-05-06T14:04:33.037563Z",
     "shell.execute_reply.started": "2023-05-06T14:04:33.028502Z"
    },
    "tags": []
   },
   "outputs": [],
   "source": [
    "ls = glob.glob(\"../fastq/*.fastq.gz\")\n",
    "ls.sort()\n",
    "assert ls != []  # 需要非空\n",
    "ls_se = [i for i in ls if i.endswith(\"SE.fastq.gz\")]\n",
    "ls_pe = [i for i in ls if i.endswith(\"R1.fastq.gz\")]"
   ]
  },
  {
   "cell_type": "code",
   "execution_count": 35,
   "metadata": {
    "execution": {
     "iopub.execute_input": "2023-05-06T14:04:33.386423Z",
     "iopub.status.busy": "2023-05-06T14:04:33.385062Z",
     "iopub.status.idle": "2023-05-06T14:04:33.395632Z",
     "shell.execute_reply": "2023-05-06T14:04:33.393853Z",
     "shell.execute_reply.started": "2023-05-06T14:04:33.386360Z"
    },
    "tags": []
   },
   "outputs": [],
   "source": [
    "if ls_se:\n",
    "    ls_sample = [i.split(\"/\")[-1].split(\"_SE.fastq\")[0] for i in ls_se]\n",
    "    end_type = \"SE\"\n",
    "\n",
    "if ls_pe:\n",
    "    ls_sample = [i.split(\"/\")[-1].split(\"_R1.fastq\")[0] for i in ls_pe]\n",
    "    end_type = \"PE\""
   ]
  },
  {
   "cell_type": "code",
   "execution_count": 36,
   "metadata": {
    "execution": {
     "iopub.execute_input": "2023-05-06T14:04:33.955987Z",
     "iopub.status.busy": "2023-05-06T14:04:33.955357Z",
     "iopub.status.idle": "2023-05-06T14:04:33.963675Z",
     "shell.execute_reply": "2023-05-06T14:04:33.962032Z",
     "shell.execute_reply.started": "2023-05-06T14:04:33.955928Z"
    },
    "tags": []
   },
   "outputs": [],
   "source": [
    "# Adapters\n",
    "# Check from MultiQC results\n",
    "\n",
    "\n",
    "# Nextera Transposase Adapters\n",
    "# The transposase adapters are used for Nextera tagmentation.\n",
    "# Read 1\n",
    "# 5′ TCGTCGGCAGCGTCAGATGTGTATAAGAGACAG\n",
    "# Read 2\n",
    "# 5′ GTCTCGTGGGCTCGGAGATGTGTATAAGAGACAG\n",
    "R1_AD = 'TCGTCGGCAGCGTCAGATGTGTATAAGAGACAG'\n",
    "R2_AD = 'GTCTCGTGGGCTCGGAGATGTGTATAAGAGACAG'"
   ]
  },
  {
   "cell_type": "code",
   "execution_count": 37,
   "metadata": {
    "execution": {
     "iopub.execute_input": "2023-05-06T14:04:39.082559Z",
     "iopub.status.busy": "2023-05-06T14:04:39.081981Z",
     "iopub.status.idle": "2023-05-06T14:04:39.089837Z",
     "shell.execute_reply": "2023-05-06T14:04:39.088174Z",
     "shell.execute_reply.started": "2023-05-06T14:04:39.082510Z"
    },
    "tags": []
   },
   "outputs": [],
   "source": [
    "MACS2_GSIZE = 'hs'\n",
    "\n",
    "# Effective genome size. It can be 1.0e+9 or 1000000000, or shortcuts:'hs' for human (2.7e9),\n",
    "# 'mm' for mouse (1.87e9), 'ce' for C. elegans (9e7) and 'dm' for fruitfly (1.2e8), Default:hs"
   ]
  },
  {
   "cell_type": "code",
   "execution_count": 41,
   "metadata": {
    "execution": {
     "iopub.execute_input": "2023-05-07T07:30:19.929819Z",
     "iopub.status.busy": "2023-05-07T07:30:19.929187Z",
     "iopub.status.idle": "2023-05-07T07:30:19.941534Z",
     "shell.execute_reply": "2023-05-07T07:30:19.939834Z",
     "shell.execute_reply.started": "2023-05-07T07:30:19.929765Z"
    },
    "tags": []
   },
   "outputs": [
    {
     "name": "stdout",
     "output_type": "stream",
     "text": [
      "{'bowtie2_index_chrM': '/lustre1/chengqiyi_pkuhpc/zhaohn/1.database/db_genomes/genome_fa/genome_ucsc_hg38/chrM.fa.bowtie2_index',\n",
      " 'bowtie2_index_genome': '/lustre1/chengqiyi_pkuhpc/zhaohn/1.database/db_genomes/genome_fa/genome_ucsc_hg38/genome_ucsc_hg38.fa.bowtie2_index',\n",
      " 'bowtie2_index_plasmid': '../ref/plasmid.fa.bowtie2_index',\n",
      " 'genome': '/lustre1/chengqiyi_pkuhpc/zhaohn/1.database/db_genomes/genome_fa/genome_ucsc_hg38/genome_ucsc_hg38.fa',\n",
      " 'macs2_gsize': 'hs',\n",
      " 'r1_ad': 'TCGTCGGCAGCGTCAGATGTGTATAAGAGACAG',\n",
      " 'r2_ad': 'GTCTCGTGGGCTCGGAGATGTGTATAAGAGACAG',\n",
      " 'samples': ['ATACSeq_GFP-NLS_REP-1',\n",
      "             'ATACSeq_GFP_REP-1',\n",
      "             'ATACSeq_ND6-DddAwt_REP-1',\n",
      "             'ATACSeq_ND6-DddAwt_REP-2',\n",
      "             'ATACSeq_SIRT6-DddA11_REP-1',\n",
      "             'ATACSeq_SIRT6-DddA11_REP-2',\n",
      "             'test'],\n",
      " 'seq_mode': 'PE',\n",
      " 'thread': 20}\n"
     ]
    }
   ],
   "source": [
    "dt = {\n",
    "    \"seq_mode\": end_type, \n",
    "    \"samples\": ls_sample, \n",
    "    \"thread\": thread,\n",
    "    \"r1_ad\": R1_AD,\n",
    "    \"r2_ad\": R2_AD,\n",
    "    \"genome\": \"/lustre1/chengqiyi_pkuhpc/zhaohn/1.database/db_genomes/genome_fa/genome_ucsc_hg38/genome_ucsc_hg38.fa\",\n",
    "    \"bowtie2_index_genome\": \"/lustre1/chengqiyi_pkuhpc/zhaohn/1.database/db_genomes/genome_fa/genome_ucsc_hg38/genome_ucsc_hg38.fa.bowtie2_index\",\n",
    "    \"bowtie2_index_chrM\": \"/lustre1/chengqiyi_pkuhpc/zhaohn/1.database/db_genomes/genome_fa/genome_ucsc_hg38/chrM.fa.bowtie2_index\",\n",
    "    \"bowtie2_index_plasmid\": \"../ref/plasmid.fa.bowtie2_index\",\n",
    "    \"macs2_gsize\": MACS2_GSIZE\n",
    "}\n",
    "pprint(dt)"
   ]
  },
  {
   "cell_type": "code",
   "execution_count": 42,
   "metadata": {
    "execution": {
     "iopub.execute_input": "2023-05-07T07:30:21.191910Z",
     "iopub.status.busy": "2023-05-07T07:30:21.191239Z",
     "iopub.status.idle": "2023-05-07T07:30:21.284881Z",
     "shell.execute_reply": "2023-05-07T07:30:21.282891Z",
     "shell.execute_reply.started": "2023-05-07T07:30:21.191833Z"
    },
    "tags": []
   },
   "outputs": [],
   "source": [
    "with open(\"./samples.json\", \"wt\") as f:\n",
    "    f.write(json.dumps(dt))"
   ]
  },
  {
   "cell_type": "code",
   "execution_count": null,
   "metadata": {},
   "outputs": [],
   "source": []
  }
 ],
 "metadata": {
  "kernelspec": {
   "display_name": "Python 3 (ipykernel)",
   "language": "python",
   "name": "python3"
  },
  "language_info": {
   "codemirror_mode": {
    "name": "ipython",
    "version": 3
   },
   "file_extension": ".py",
   "mimetype": "text/x-python",
   "name": "python",
   "nbconvert_exporter": "python",
   "pygments_lexer": "ipython3",
   "version": "3.10.4"
  }
 },
 "nbformat": 4,
 "nbformat_minor": 4
}
