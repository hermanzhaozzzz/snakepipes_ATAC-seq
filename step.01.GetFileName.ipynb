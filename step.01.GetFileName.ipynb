{
 "cells": [
  {
   "cell_type": "markdown",
   "metadata": {
    "tags": []
   },
   "source": [
    "# ATAC-seq standard protocol"
   ]
  },
  {
   "cell_type": "code",
   "execution_count": 1,
   "metadata": {
    "execution": {
     "iopub.execute_input": "2023-08-29T07:28:56.028317Z",
     "iopub.status.busy": "2023-08-29T07:28:56.027971Z",
     "iopub.status.idle": "2023-08-29T07:28:56.036786Z",
     "shell.execute_reply": "2023-08-29T07:28:56.034665Z",
     "shell.execute_reply.started": "2023-08-29T07:28:56.028291Z"
    }
   },
   "outputs": [],
   "source": [
    "# !pip install bioat -U"
   ]
  },
  {
   "cell_type": "code",
   "execution_count": 2,
   "metadata": {
    "execution": {
     "iopub.execute_input": "2023-08-29T07:28:56.039185Z",
     "iopub.status.busy": "2023-08-29T07:28:56.038420Z",
     "iopub.status.idle": "2023-08-29T07:28:56.620796Z",
     "shell.execute_reply": "2023-08-29T07:28:56.620407Z",
     "shell.execute_reply.started": "2023-08-29T07:28:56.039167Z"
    },
    "tags": []
   },
   "outputs": [],
   "source": [
    "import json\n",
    "from glob import glob\n",
    "from bioat.lib.libpath import HOME\n",
    "from pprint import pprint"
   ]
  },
  {
   "cell_type": "markdown",
   "metadata": {},
   "source": [
    "## 参数设置"
   ]
  },
  {
   "cell_type": "code",
   "execution_count": 3,
   "metadata": {
    "execution": {
     "iopub.execute_input": "2023-08-29T07:28:56.621576Z",
     "iopub.status.busy": "2023-08-29T07:28:56.621413Z",
     "iopub.status.idle": "2023-08-29T07:28:56.623675Z",
     "shell.execute_reply": "2023-08-29T07:28:56.623337Z",
     "shell.execute_reply.started": "2023-08-29T07:28:56.621565Z"
    },
    "tags": []
   },
   "outputs": [],
   "source": [
    "thread = 20"
   ]
  },
  {
   "cell_type": "markdown",
   "metadata": {},
   "source": [
    "## 生成samples.json"
   ]
  },
  {
   "cell_type": "code",
   "execution_count": 4,
   "metadata": {
    "execution": {
     "iopub.execute_input": "2023-08-29T07:28:56.625231Z",
     "iopub.status.busy": "2023-08-29T07:28:56.625109Z",
     "iopub.status.idle": "2023-08-29T07:28:56.627811Z",
     "shell.execute_reply": "2023-08-29T07:28:56.627540Z",
     "shell.execute_reply.started": "2023-08-29T07:28:56.625218Z"
    },
    "tags": []
   },
   "outputs": [],
   "source": [
    "ls = glob(\"../fastq/*.fastq.gz\")\n",
    "ls.sort()\n",
    "assert ls != []  # 需要非空\n",
    "ls_se = [i for i in ls if i.endswith(\"SE.fastq.gz\")]\n",
    "ls_pe = [i for i in ls if i.endswith(\"R1.fastq.gz\")]"
   ]
  },
  {
   "cell_type": "code",
   "execution_count": 5,
   "metadata": {
    "execution": {
     "iopub.execute_input": "2023-08-29T07:28:56.628313Z",
     "iopub.status.busy": "2023-08-29T07:28:56.628209Z",
     "iopub.status.idle": "2023-08-29T07:28:56.630503Z",
     "shell.execute_reply": "2023-08-29T07:28:56.630227Z",
     "shell.execute_reply.started": "2023-08-29T07:28:56.628302Z"
    },
    "tags": []
   },
   "outputs": [],
   "source": [
    "if ls_se:\n",
    "    ls_sample = [i.split(\"/\")[-1].split(\"_SE.fastq\")[0] for i in ls_se]\n",
    "    end_type = \"SE\"\n",
    "\n",
    "if ls_pe:\n",
    "    ls_sample = [i.split(\"/\")[-1].split(\"_R1.fastq\")[0] for i in ls_pe]\n",
    "    end_type = \"PE\""
   ]
  },
  {
   "cell_type": "code",
   "execution_count": 6,
   "metadata": {
    "execution": {
     "iopub.execute_input": "2023-08-29T07:28:56.631065Z",
     "iopub.status.busy": "2023-08-29T07:28:56.630968Z",
     "iopub.status.idle": "2023-08-29T07:28:56.632862Z",
     "shell.execute_reply": "2023-08-29T07:28:56.632612Z",
     "shell.execute_reply.started": "2023-08-29T07:28:56.631055Z"
    },
    "tags": []
   },
   "outputs": [],
   "source": [
    "# Adapters\n",
    "# Check from MultiQC results\n",
    "\n",
    "\n",
    "# Nextera Transposase Adapters\n",
    "# The transposase adapters are used for Nextera tagmentation.\n",
    "# Read 1\n",
    "# 5′ TCGTCGGCAGCGTCAGATGTGTATAAGAGACAG\n",
    "# Read 2\n",
    "# 5′ GTCTCGTGGGCTCGGAGATGTGTATAAGAGACAG\n",
    "R1_AD = 'TCGTCGGCAGCGTCAGATGTGTATAAGAGACAG'\n",
    "R2_AD = 'GTCTCGTGGGCTCGGAGATGTGTATAAGAGACAG'"
   ]
  },
  {
   "cell_type": "code",
   "execution_count": 7,
   "metadata": {
    "execution": {
     "iopub.execute_input": "2023-08-29T07:28:56.633466Z",
     "iopub.status.busy": "2023-08-29T07:28:56.633346Z",
     "iopub.status.idle": "2023-08-29T07:28:56.635217Z",
     "shell.execute_reply": "2023-08-29T07:28:56.634916Z",
     "shell.execute_reply.started": "2023-08-29T07:28:56.633455Z"
    },
    "tags": []
   },
   "outputs": [],
   "source": [
    "MACS2_GSIZE = 'hs'\n",
    "\n",
    "# Effective genome size. It can be 1.0e+9 or 1000000000, or shortcuts:'hs' for human (2.7e9),\n",
    "# 'mm' for mouse (1.87e9), 'ce' for C. elegans (9e7) and 'dm' for fruitfly (1.2e8), Default:hs"
   ]
  },
  {
   "cell_type": "code",
   "execution_count": 8,
   "metadata": {
    "execution": {
     "iopub.execute_input": "2023-08-29T07:28:56.635705Z",
     "iopub.status.busy": "2023-08-29T07:28:56.635612Z",
     "iopub.status.idle": "2023-08-29T07:28:56.639259Z",
     "shell.execute_reply": "2023-08-29T07:28:56.638743Z",
     "shell.execute_reply.started": "2023-08-29T07:28:56.635695Z"
    },
    "tags": []
   },
   "outputs": [
    {
     "name": "stdout",
     "output_type": "stream",
     "text": [
      "{'bowtie2_index_chrM': '/Users/zhaohuanan/1.database/db_genomes/genome_fa/genome_ucsc_hg38/chrM.fa.bowtie2_index',\n",
      " 'bowtie2_index_genome': '/Users/zhaohuanan/1.database/db_genomes/genome_fa/genome_ucsc_hg38/genome_ucsc_hg38.fa.bowtie2_index',\n",
      " 'bowtie2_index_plasmid': '../ref/plasmid.fa.bowtie2_index',\n",
      " 'genome': '/Users/zhaohuanan/1.database/db_genomes/genome_fa/genome_ucsc_hg38/genome_ucsc_hg38.fa',\n",
      " 'macs2_gsize': 'hs',\n",
      " 'r1_ad': 'TCGTCGGCAGCGTCAGATGTGTATAAGAGACAG',\n",
      " 'r2_ad': 'GTCTCGTGGGCTCGGAGATGTGTATAAGAGACAG',\n",
      " 'samples': ['ATACSeq_GFP-NLS_REP-1',\n",
      "             'ATACSeq_GFP_REP-1',\n",
      "             'ATACSeq_ND6-DddAwt_REP-1',\n",
      "             'ATACSeq_ND6-DddAwt_REP-2',\n",
      "             'ATACSeq_SIRT6-DddA11_REP-1',\n",
      "             'ATACSeq_SIRT6-DddA11_REP-2',\n",
      "             'test'],\n",
      " 'seq_mode': 'PE',\n",
      " 'thread': 20}\n"
     ]
    }
   ],
   "source": [
    "dt = {\n",
    "    \"seq_mode\": end_type, \n",
    "    \"samples\": ls_sample, \n",
    "    \"thread\": thread,\n",
    "    \"r1_ad\": R1_AD,\n",
    "    \"r2_ad\": R2_AD,\n",
    "    \"genome\": f\"{HOME}/1.database/db_genomes/genome_fa/genome_ucsc_hg38/genome_ucsc_hg38.fa\",\n",
    "    \"bowtie2_index_genome\": f\"{HOME}/1.database/db_genomes/genome_fa/genome_ucsc_hg38/genome_ucsc_hg38.fa.bowtie2_index\",\n",
    "    \"bowtie2_index_chrM\": f\"{HOME}/1.database/db_genomes/genome_fa/genome_ucsc_hg38/chrM.fa.bowtie2_index\",\n",
    "    \"bowtie2_index_plasmid\": \"../ref/plasmid.fa.bowtie2_index\",\n",
    "    \"macs2_gsize\": MACS2_GSIZE\n",
    "}\n",
    "pprint(dt)"
   ]
  },
  {
   "cell_type": "code",
   "execution_count": 9,
   "metadata": {
    "execution": {
     "iopub.execute_input": "2023-08-29T07:28:56.640236Z",
     "iopub.status.busy": "2023-08-29T07:28:56.639986Z",
     "iopub.status.idle": "2023-08-29T07:28:56.643543Z",
     "shell.execute_reply": "2023-08-29T07:28:56.643055Z",
     "shell.execute_reply.started": "2023-08-29T07:28:56.640221Z"
    },
    "tags": []
   },
   "outputs": [],
   "source": [
    "with open(\"./samples.json\", \"wt\") as f:\n",
    "    f.write(json.dumps(dt))"
   ]
  },
  {
   "cell_type": "code",
   "execution_count": null,
   "metadata": {},
   "outputs": [],
   "source": []
  }
 ],
 "metadata": {
  "kernelspec": {
   "display_name": "snakepipes_ATAC-seq",
   "language": "python",
   "name": "snakepipes_atac-seq"
  },
  "language_info": {
   "codemirror_mode": {
    "name": "ipython",
    "version": 3
   },
   "file_extension": ".py",
   "mimetype": "text/x-python",
   "name": "python",
   "nbconvert_exporter": "python",
   "pygments_lexer": "ipython3",
   "version": "3.10.12"
  }
 },
 "nbformat": 4,
 "nbformat_minor": 4
}
